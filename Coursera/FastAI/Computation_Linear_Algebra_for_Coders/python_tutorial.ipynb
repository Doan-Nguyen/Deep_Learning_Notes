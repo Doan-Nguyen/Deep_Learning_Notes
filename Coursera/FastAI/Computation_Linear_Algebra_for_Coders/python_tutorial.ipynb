{
 "cells": [
  {
   "cell_type": "markdown",
   "metadata": {},
   "source": [
    "## In this tutorial, we will cover:\n",
    "\n",
    "    - Basic python: \n",
    "        - Basic data types (Containers, List, Dictionaries, Sets, Tuples)\n",
    "        - Function\n",
    "        - Classes\n",
    "    - Numpy: Array, Array index, Datatypes, Array Math, Broadcasting\n",
    "    - Matplotlib: Plotting, subplots, images\n",
    "    "
   ]
  },
  {
   "cell_type": "markdown",
   "metadata": {},
   "source": [
    "### Basic data types\n"
   ]
  },
  {
   "cell_type": "code",
   "execution_count": 2,
   "metadata": {
    "tags": []
   },
   "outputs": [
    {
     "output_type": "stream",
     "name": "stdout",
     "text": "3 <class 'int'>\n"
    }
   ],
   "source": [
    "# numbers\n",
    "x = 3\n",
    "print(x, type(x))"
   ]
  },
  {
   "cell_type": "markdown",
   "metadata": {},
   "source": [
    "Python **does not** have (++) & (--)"
   ]
  },
  {
   "cell_type": "markdown",
   "metadata": {},
   "source": [
    "### Booleans\n",
    "\n",
    "+ and ~ &&\n",
    "+ or ~ ||"
   ]
  },
  {
   "cell_type": "code",
   "execution_count": 6,
   "metadata": {
    "tags": []
   },
   "outputs": [
    {
     "output_type": "stream",
     "name": "stdout",
     "text": "<class 'bool'>\nFalse\nTrue\nFalse\nTrue\n"
    }
   ],
   "source": [
    "t, f = True, False\n",
    "print(type(t))\n",
    "print(t and f) # f\n",
    "print(t or f)  # t\n",
    "print(not t) # f\n",
    "print(t != f) # t"
   ]
  },
  {
   "cell_type": "markdown",
   "metadata": {},
   "source": [
    "### String\n",
    "\n",
    "+ Methods:\n",
    "- captialize(): captialize a String\n",
    "- upper(): Uppercase a string \n",
    "- rjust(): righ/left-justify a string\n"
   ]
  },
  {
   "cell_type": "code",
   "execution_count": 13,
   "metadata": {
    "tags": []
   },
   "outputs": [
    {
     "output_type": "stream",
     "name": "stdout",
     "text": "Hello 5\n"
    }
   ],
   "source": [
    "h = \"Hello\"\n",
    "w = \"world\"\n",
    "print(h, len(h))"
   ]
  },
  {
   "cell_type": "code",
   "execution_count": 15,
   "metadata": {
    "tags": []
   },
   "outputs": [
    {
     "output_type": "stream",
     "name": "stdout",
     "text": "Hello world 12\n"
    }
   ],
   "source": [
    "text = '{} {} {}'.format(h, w, 12)\n",
    "print(text)"
   ]
  },
  {
   "cell_type": "code",
   "execution_count": 18,
   "metadata": {
    "tags": []
   },
   "outputs": [
    {
     "output_type": "stream",
     "name": "stdout",
     "text": "World\nHELLO\n  Hello\nHmmmm\n"
    }
   ],
   "source": [
    "print(w.capitalize())\n",
    "print(h.upper())\n",
    "print(h.rjust(7))\n",
    "print(' Hmmmm     '.strip())"
   ]
  },
  {
   "cell_type": "markdown",
   "metadata": {},
   "source": [
    "## Containers\n",
    "\n",
    "+ Python includes several container types: lists, dictionaries, sets, tuples\n",
    "\n",
    "-list = [a, b, c]\n",
    "\n",
    "-dictionaries = \n",
    "\n",
    "- sets = "
   ]
  }
 ],
 "metadata": {
  "language_info": {
   "codemirror_mode": {
    "name": "ipython",
    "version": 3
   },
   "file_extension": ".py",
   "mimetype": "text/x-python",
   "name": "python",
   "nbconvert_exporter": "python",
   "pygments_lexer": "ipython3",
   "version": 3
  },
  "orig_nbformat": 2,
  "kernelspec": {
   "name": "python_defaultSpec_1596617135815",
   "display_name": "Python 3.7.5 64-bit ('tf2_env': conda)"
  }
 },
 "nbformat": 4,
 "nbformat_minor": 2
}