{
 "metadata": {
  "language_info": {
   "codemirror_mode": {
    "name": "ipython",
    "version": 3
   },
   "file_extension": ".py",
   "mimetype": "text/x-python",
   "name": "python",
   "nbconvert_exporter": "python",
   "pygments_lexer": "ipython3",
   "version": "3.7.5-final"
  },
  "orig_nbformat": 2,
  "kernelspec": {
   "name": "python_defaultSpec_1599539379810",
   "display_name": "Python 3.7.5 64-bit ('gpu_env': conda)"
  }
 },
 "nbformat": 4,
 "nbformat_minor": 2,
 "cells": [
  {
   "cell_type": "markdown",
   "metadata": {},
   "source": [
    "# CS231n Python Tutorial "
   ]
  },
  {
   "cell_type": "markdown",
   "metadata": {},
   "source": [
    "## 0. In this tutorial, we will cover:\n",
    "\n",
    "+ Basic Python: Basic data types (Containers, Lists, Dictionaries, Sets, Tuples), Functions, Classes\n",
    "+ Numpy: Arrays, Array indexing, Datatypes, Array math, Broadcasting\n",
    "+ Matplotlib: Plotting, Subplots, Images\n",
    "+ IPython: Creating notebooks, Typical workflows\n"
   ]
  },
  {
   "cell_type": "code",
   "execution_count": 1,
   "metadata": {},
   "outputs": [
    {
     "output_type": "execute_result",
     "data": {
      "text/plain": "[1, 2, 4, 5, 7, 9]"
     },
     "metadata": {},
     "execution_count": 1
    }
   ],
   "source": [
    "def quick_sort(arr):\n",
    "    if len(arr) <= 1:\n",
    "        return arr \n",
    "    pivot = arr[len(arr) // 2]\n",
    "    left = [x for x in arr if x < pivot]\n",
    "    middle = [x for x in arr if x == pivot]\n",
    "    right = [x for x in arr if x > pivot]\n",
    "\n",
    "    return quick_sort(left) + middle + quick_sort(right)\n",
    "\n",
    "a = [1, 5, 2, 9, 4, 7]\n",
    "quick_sort(a)\n"
   ]
  },
  {
   "cell_type": "markdown",
   "metadata": {},
   "source": [
    "## 1. Basic data types\n"
   ]
  },
  {
   "cell_type": "markdown",
   "metadata": {},
   "source": [
    "### 1.1 Numbers"
   ]
  },
  {
   "cell_type": "code",
   "execution_count": 5,
   "metadata": {
    "tags": []
   },
   "outputs": [
    {
     "output_type": "error",
     "ename": "SyntaxError",
     "evalue": "invalid syntax (<ipython-input-5-d98f4e36d539>, line 9)",
     "traceback": [
      "\u001b[0;36m  File \u001b[0;32m\"<ipython-input-5-d98f4e36d539>\"\u001b[0;36m, line \u001b[0;32m9\u001b[0m\n\u001b[0;31m    print(\"Addition error: {}\".format(x --))\u001b[0m\n\u001b[0m                                          ^\u001b[0m\n\u001b[0;31mSyntaxError\u001b[0m\u001b[0;31m:\u001b[0m invalid syntax\n"
     ]
    }
   ],
   "source": [
    "x = 3\n",
    "print(x, type(x))\n",
    "print(\"Addition: {}\".format(x + 2))\n",
    "print(\"Subtraction: {}\".format(x - 2))\n",
    "print(\"Multiplication: {}\".format(x * 2))\n",
    "print(\"Exponentation: {}\".format(x ** 2))\n",
    "\n",
    "# print(\"Addition error: {}\".format(x ++))\n",
    "# print(\"Addition error: {}\".format(x --))\n"
   ]
  },
  {
   "cell_type": "markdown",
   "metadata": {},
   "source": [
    "### 1.2 Strings"
   ]
  },
  {
   "cell_type": "code",
   "execution_count": 6,
   "metadata": {
    "tags": []
   },
   "outputs": [
    {
     "output_type": "stream",
     "name": "stdout",
     "text": "Nhanh len nao\nNHANH LEN NAO\nNhanh len nao\nNhanh len nao\nabc\n"
    }
   ],
   "source": [
    "s = \"Nhanh len nao\"\n",
    "print(s.capitalize())   # Capitalize a string\n",
    "print(s.upper())        # Uppercase\n",
    "print('   abc   '.strip())  # strip leading & trailing whitespace"
   ]
  },
  {
   "cell_type": "markdown",
   "metadata": {},
   "source": [
    "### 1.3 Containers\n",
    "\n",
    "+ Python includes several built-in container typers: \n",
    "    - list\n",
    "    - dictionaries\n",
    "    - sets \n",
    "    - tuples"
   ]
  },
  {
   "cell_type": "markdown",
   "metadata": {},
   "source": [
    "#### 1.3.1 Lists"
   ]
  },
  {
   "cell_type": "code",
   "execution_count": 10,
   "metadata": {
    "tags": []
   },
   "outputs": [
    {
     "output_type": "stream",
     "name": "stdout",
     "text": "Element in 1-th: 2\nElement in -2-th: 3\n"
    }
   ],
   "source": [
    "###         List's elements\n",
    "l = [1, 2, 3, 4]\n",
    "print(\"Element in {}-th: {}\".format(1, l[1]))\n",
    "print(\"Element in {}-th: {}\".format(-2, l[-2]))"
   ]
  },
  {
   "cell_type": "markdown",
   "metadata": {},
   "source": [
    "#### 1.3.2 Slicing"
   ]
  },
  {
   "cell_type": "code",
   "execution_count": 14,
   "metadata": {
    "tags": []
   },
   "outputs": [
    {
     "output_type": "stream",
     "name": "stdout",
     "text": "[0, 1, 2, 3, 4]\n[2, 3]\n[0, 1]\n[0, 1, 2, 3]\n"
    }
   ],
   "source": [
    "nums = list(range(5))\n",
    "print(nums)\n",
    "print(nums[2:4])\n",
    "print(nums[:-3])\n",
    "print(nums[:-1])"
   ]
  },
  {
   "cell_type": "markdown",
   "metadata": {},
   "source": [
    "#### 1.3.3 Loops"
   ]
  },
  {
   "cell_type": "code",
   "execution_count": 15,
   "metadata": {
    "tags": []
   },
   "outputs": [
    {
     "output_type": "stream",
     "name": "stdout",
     "text": "#0: cat\n#1: dog\n#2: monkey\n"
    }
   ],
   "source": [
    "animals = ['cat', 'dog', 'monkey']\n",
    "for i, element in enumerate(animals):\n",
    "    print(\"#{}: {}\".format(i, element))"
   ]
  },
  {
   "cell_type": "markdown",
   "metadata": {},
   "source": [
    "#### 1.3.4 List comprehensions:\n",
    "\n",
    "+ Syntax of List comprehensions\n",
    "    ```\n",
    "    [expression for item in list]\n",
    "    ```\n",
    "+ Examples:\n",
    "    ```\n",
    "    character for character in \"word\"\n",
    "    ```\n"
   ]
  },
  {
   "cell_type": "code",
   "execution_count": null,
   "metadata": {},
   "outputs": [],
   "source": []
  }
 ]
}