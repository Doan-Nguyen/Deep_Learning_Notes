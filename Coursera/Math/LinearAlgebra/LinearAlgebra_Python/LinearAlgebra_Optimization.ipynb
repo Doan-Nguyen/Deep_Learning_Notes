{
 "metadata": {
  "language_info": {
   "codemirror_mode": {
    "name": "ipython",
    "version": 3
   },
   "file_extension": ".py",
   "mimetype": "text/x-python",
   "name": "python",
   "nbconvert_exporter": "python",
   "pygments_lexer": "ipython3",
   "version": "3.7.5-final"
  },
  "orig_nbformat": 2,
  "kernelspec": {
   "name": "python_defaultSpec_1599533749096",
   "display_name": "Python 3.7.5 64-bit ('tf2_env': conda)"
  }
 },
 "nbformat": 4,
 "nbformat_minor": 2,
 "cells": [
  {
   "cell_type": "markdown",
   "metadata": {},
   "source": [
    "# Linear Algebra"
   ]
  },
  {
   "cell_type": "markdown",
   "metadata": {},
   "source": [
    "## Matrices & vectors\n",
    "\n",
    "+ Dimension of matrices: numb_rows x numb_columns"
   ]
  },
  {
   "cell_type": "code",
   "execution_count": 4,
   "metadata": {
    "tags": []
   },
   "outputs": [
    {
     "output_type": "stream",
     "name": "stdout",
     "text": "m1 = \n [[1 2 3]\n [2 3 4]\n [3 4 5]] \n\nm1's shape: (3, 3)\n"
    }
   ],
   "source": [
    "import numpy as np \n",
    "\n",
    "m1 = np.array([[1, 2, 3], [2, 3, 4], [3, 4, 5]])\n",
    "print(\"m1 = \\n {} \\n\".format(m1))\n",
    "print(\"m1's shape: {}\".format(m1.shape))"
   ]
  },
  {
   "cell_type": "code",
   "execution_count": 9,
   "metadata": {
    "tags": []
   },
   "outputs": [
    {
     "output_type": "stream",
     "name": "stdout",
     "text": "The result matrix: \n [[17 23]\n [31 43]]\n"
    }
   ],
   "source": [
    "def multi_matrices(a: np.array, b: np.array) -> np.array:\n",
    "    assert(a.shape[1] == b.shape[0])\n",
    "    c = np.dot(a, b)\n",
    "    print(\"The result matrix: \\n {}\".format(c))\n",
    "\n",
    "a = np.array([[1, 2, 3], [3, 4, 5]])\n",
    "b = np.array([[1, 2], [2, 3], [4, 5]])\n",
    "multi_matrices(a, b)"
   ]
  },
  {
   "cell_type": "markdown",
   "metadata": {},
   "source": [
    "## Determinant, rank, inverse & transpose\n",
    "\n",
    "+ Determinant of square matrix A denotes det(A) or |A|\n",
    "\n",
    "+ In python, **np.linalg.det(A)**\n"
   ]
  },
  {
   "cell_type": "code",
   "execution_count": 10,
   "metadata": {},
   "outputs": [],
   "source": [
    "# def determinant_matrix(a: np.array) -> int:\n",
    "#     assert(a.shape[0] == a.shape[1])\n"
   ]
  },
  {
   "cell_type": "markdown",
   "metadata": {},
   "source": [
    "### Inverse matric\n",
    "\n",
    "+ Identity matrix: a[i, i] = 1 & other elements = 0\n",
    "\n",
    "+ Inverse A(-1): A.A(-1)=I"
   ]
  },
  {
   "cell_type": "code",
   "execution_count": 13,
   "metadata": {
    "tags": []
   },
   "outputs": [
    {
     "output_type": "stream",
     "name": "stdout",
     "text": "Inverse matrix: \n [[0.         0.33333333]\n [1.         0.        ]]\n"
    }
   ],
   "source": [
    "m1 = np.array([[0, 1], [3, 0]])\n",
    "print(\"Inverse matrix: \\n {}\".format(np.linalg.inv(m1)))"
   ]
  },
  {
   "cell_type": "markdown",
   "metadata": {},
   "source": [
    "### Transpose\n",
    "\n",
    "+ A(n, m) -> Transpose B (m, n):\n",
    "    - Aij = Bji"
   ]
  },
  {
   "cell_type": "code",
   "execution_count": null,
   "metadata": {},
   "outputs": [],
   "source": []
  }
 ]
}