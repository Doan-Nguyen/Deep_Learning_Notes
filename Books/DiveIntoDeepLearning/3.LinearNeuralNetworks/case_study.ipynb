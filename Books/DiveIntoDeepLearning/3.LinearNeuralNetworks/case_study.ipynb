{
 "metadata": {
  "language_info": {
   "codemirror_mode": {
    "name": "ipython",
    "version": 3
   },
   "file_extension": ".py",
   "mimetype": "text/x-python",
   "name": "python",
   "nbconvert_exporter": "python",
   "pygments_lexer": "ipython3",
   "version": "3.7.5-final"
  },
  "orig_nbformat": 2,
  "kernelspec": {
   "name": "python_defaultSpec_1598770920969",
   "display_name": "Python 3.7.5 64-bit ('tf2_env': conda)"
  }
 },
 "nbformat": 4,
 "nbformat_minor": 2,
 "cells": [
  {
   "cell_type": "markdown",
   "metadata": {},
   "source": [
    "## Gradient Descent"
   ]
  },
  {
   "cell_type": "code",
   "execution_count": 15,
   "metadata": {},
   "outputs": [],
   "source": [
    "from __future__ import division, print_function, unicode_literals\n",
    "import math\n",
    "import numpy as np \n",
    "import matplotlib.pyplot as plt\n",
    "\"\"\"\n",
    "    f(x) = x**2 + 5*sin(x)\n",
    "    f'(x) = 2*x + 5*cos(x)\n",
    "\"\"\"\n",
    "\n",
    "def gradient(x0):\n",
    "    \"\"\"\n",
    "    Calculate gradient of f'(x=x0)\n",
    "    \"\"\"\n",
    "    return (2*x0 + 5*np.cos(x0))\n",
    "\n",
    "def cost(x0):\n",
    "    \"\"\"\n",
    "    This function calculate f(x=x0)\n",
    "    \"\"\"\n",
    "    return (x0**2 + 5*np.sin(x0))\n",
    "\n",
    "def gradient_descent(lr, x0):\n",
    "    \"\"\"\n",
    "    Khởi tạo tại điểm x0:\n",
    "        - tính đạo hàm tại điểm cập nhật mới nhất. Với lần đầu chạy sẽ lấy x0\n",
    "        - So sánh giá trị tuyệt đối điểm mới nhất với 10e-3.\n",
    "        - thêm giá trị cập nhật vào tập giá trị cập nhật.\n",
    "    \"\"\"\n",
    "    x_update = [x0]\n",
    "    for i in range(100):\n",
    "        ### x[-1] lay phan tu duoc cap nhat moi nhat\n",
    "        x_new = x_update[-1] - lr*gradient(x_update[-1])\n",
    "        if abs(gradient(x_new)) < 1e-3:\n",
    "            break\n",
    "        x_update.append(x_new)\n",
    "    return x_update, i"
   ]
  },
  {
   "cell_type": "code",
   "execution_count": 16,
   "metadata": {
    "tags": []
   },
   "outputs": [
    {
     "output_type": "stream",
     "name": "stdout",
     "text": "Solution x1 = -1.110667, cost = -3.246394, obtained after 11 iterations\nSolution x2 = -1.110341, cost = -3.246394, obtained after 29 iterations\n"
    }
   ],
   "source": [
    "(x1, it1) = gradient_descent(.1, -5)\n",
    "(x2, it2) = gradient_descent(.1, 5)\n",
    "print('Solution x1 = %f, cost = %f, obtained after %d iterations'%(x1[-1], cost(x1[-1]), it1))\n",
    "print('Solution x2 = %f, cost = %f, obtained after %d iterations'%(x2[-1], cost(x2[-1]), it2))"
   ]
  }
 ]
}