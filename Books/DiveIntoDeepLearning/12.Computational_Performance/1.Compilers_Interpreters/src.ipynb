{
 "metadata": {
  "language_info": {
   "codemirror_mode": {
    "name": "ipython",
    "version": 3
   },
   "file_extension": ".py",
   "mimetype": "text/x-python",
   "name": "python",
   "nbconvert_exporter": "python",
   "pygments_lexer": "ipython3",
   "version": "3.7.6-final"
  },
  "orig_nbformat": 2,
  "kernelspec": {
   "name": "python_defaultSpec_1599964881005",
   "display_name": "Python 3.7.6 64-bit ('env_gpu': venv)"
  }
 },
 "nbformat": 4,
 "nbformat_minor": 2,
 "cells": [
  {
   "cell_type": "markdown",
   "metadata": {},
   "source": [
    "# 12.1 Symbolic Programming\n",
    "+ Only once the process has been fully defined\n",
    "+ It usually involves the following steps:\n",
    "    - Define the operations to be executed\n",
    "    - Compile the operations into an excutable programing \n",
    "    - Provide the required inputs & call the compiled program for execution "
   ]
  },
  {
   "cell_type": "code",
   "execution_count": 1,
   "metadata": {
    "tags": []
   },
   "outputs": [
    {
     "output_type": "stream",
     "name": "stdout",
     "text": "10\n"
    },
    {
     "output_type": "execute_result",
     "data": {
      "text/plain": "10"
     },
     "metadata": {},
     "execution_count": 1
    }
   ],
   "source": [
    "def add(a, b):\n",
    "    return a + b\n",
    "\n",
    "def fancy_func(a, b, c, d):\n",
    "    e = add(a, b)\n",
    "    f = add(c, d)\n",
    "    g = add(e, f)\n",
    "    return g\n",
    "print(fancy_func(1, 2, 3, 4))\n",
    "10"
   ]
  },
  {
   "cell_type": "code",
   "execution_count": 2,
   "metadata": {
    "tags": []
   },
   "outputs": [
    {
     "output_type": "stream",
     "name": "stdout",
     "text": "\ndef add(a, b):\n    return a + b\n\ndef fancy_func(a, b, c, d):\n    e = add(a, b)\n    f = add(c, d)\n    g = add(e, f)\n    return g\nprint(fancy_func(1, 2, 3, 4))\n10\n"
    }
   ],
   "source": [
    "def add_():\n",
    "    return '''\n",
    "def add(a, b):\n",
    "    return a + b\n",
    "'''\n",
    "\n",
    "def fancy_func_():\n",
    "    return '''\n",
    "def fancy_func(a, b, c, d):\n",
    "    e = add(a, b)\n",
    "    f = add(c, d)\n",
    "    g = add(e, f)\n",
    "    return g\n",
    "'''\n",
    "\n",
    "def evoke_():\n",
    "    return add_() + fancy_func_() + 'print(fancy_func(1, 2, 3, 4))'\n",
    "\n",
    "prog = evoke_()\n",
    "print(prog)\n",
    "y = compile(prog, '', 'exec')\n",
    "exec(y)"
   ]
  },
  {
   "cell_type": "markdown",
   "metadata": {},
   "source": [
    "# 12.2 Hybrid programming\n",
    "\n",
    "+ Properties:\n",
    "    - Develop & debug same imperative programming\n",
    "    - Convert most programs into symbolic programs to be run product-level.\n",
    "+ Includes:\n",
    "    - *HybridBlock*\n",
    "    - *HybridSequential*\n",
    "    - *HybridConcurrent*"
   ]
  },
  {
   "cell_type": "markdown",
   "metadata": {},
   "source": [
    "# 12.3 HybridSequential\n",
    "\n",
    "+ Simply desinate a block to be *HybridSequential*, but doesn't work for every layers.\n",
    "+ By calling *hybridize()*, we are able to compile & optimizer the computation in the MLP. The model's computattion result remains unchanged. \n",
    "+ "
   ]
  },
  {
   "cell_type": "code",
   "execution_count": 3,
   "metadata": {},
   "outputs": [],
   "source": [
    "from d2l import mxnet as d2l \n",
    "from mxnet import np, npx \n",
    "from mxnet.gluon import nn \n",
    "npx.set_np()"
   ]
  },
  {
   "cell_type": "code",
   "execution_count": 4,
   "metadata": {},
   "outputs": [
    {
     "output_type": "execute_result",
     "data": {
      "text/plain": "array([[ 0.16526186, -0.14005628]])"
     },
     "metadata": {},
     "execution_count": 4
    }
   ],
   "source": [
    "def get_net():\n",
    "    net = nn.HybridSequential()\n",
    "    net.add(\n",
    "        nn.Dense(256, activation='relu'),\n",
    "        nn.Dense(128, activation='relu'),\n",
    "        nn.Dense(2)\n",
    "    )\n",
    "    net.initialize()\n",
    "    return net \n",
    "\n",
    "###\n",
    "x = np.random.normal(size=(1, 512))\n",
    "net = get_net()\n",
    "net(x)"
   ]
  },
  {
   "cell_type": "code",
   "execution_count": 5,
   "metadata": {},
   "outputs": [
    {
     "output_type": "execute_result",
     "data": {
      "text/plain": "array([[ 0.16526186, -0.14005628]])"
     },
     "metadata": {},
     "execution_count": 5
    }
   ],
   "source": [
    "net.hybridize()\n",
    "net(x)"
   ]
  },
  {
   "cell_type": "markdown",
   "metadata": {},
   "source": [
    "### 12.3.1 Acceleration by Hybridization\n",
    "\n",
    "+ To demonstrate the performance improvement gained by compilation, we compare the time needed to evaluate net(x)"
   ]
  },
  {
   "cell_type": "code",
   "execution_count": 6,
   "metadata": {},
   "outputs": [],
   "source": [
    "class BenchMark:\n",
    "    def __init__(self, description='Done'):\n",
    "        self.description = description \n",
    "\n",
    "    def __enter__(self):\n",
    "        self.timer = d2l.Timer()\n",
    "        return self \n",
    "    \n",
    "    def __exit__(self, *args):\n",
    "        print(f'{self.description}: {self.timer.stop():.4f} sec')"
   ]
  },
  {
   "cell_type": "code",
   "execution_count": 7,
   "metadata": {
    "tags": []
   },
   "outputs": [
    {
     "output_type": "stream",
     "name": "stdout",
     "text": "Without hybridization: 0.4475 sec\nWith hybridization: 0.0969 sec\n"
    }
   ],
   "source": [
    "net = get_net()\n",
    "with BenchMark(\"Without hybridization\"):\n",
    "    for i in range(1000): net(x)\n",
    "    npx.waitall()\n",
    "\n",
    "net.hybridize()\n",
    "with BenchMark(\"With hybridization\"):\n",
    "    for i in range(1000): net(x)\n",
    "    npx.waitall()"
   ]
  },
  {
   "cell_type": "markdown",
   "metadata": {},
   "source": [
    "### 12.3.2 Sequential"
   ]
  },
  {
   "cell_type": "code",
   "execution_count": 10,
   "metadata": {},
   "outputs": [
    {
     "output_type": "error",
     "ename": "RuntimeError",
     "evalue": "Please first call block.hybridize() and then run forward with this block at least once before calling export.",
     "traceback": [
      "\u001b[0;31m---------------------------------------------------------------------------\u001b[0m",
      "\u001b[0;31mRuntimeError\u001b[0m                              Traceback (most recent call last)",
      "\u001b[0;32m<ipython-input-10-06da8bf27590>\u001b[0m in \u001b[0;36m<module>\u001b[0;34m\u001b[0m\n\u001b[1;32m      5\u001b[0m \u001b[0;31m# net.hybridize()\u001b[0m\u001b[0;34m\u001b[0m\u001b[0;34m\u001b[0m\u001b[0;34m\u001b[0m\u001b[0m\n\u001b[1;32m      6\u001b[0m \u001b[0;31m# net(mx.nd.ones((1,3,224,224)))\u001b[0m\u001b[0;34m\u001b[0m\u001b[0;34m\u001b[0m\u001b[0;34m\u001b[0m\u001b[0m\n\u001b[0;32m----> 7\u001b[0;31m \u001b[0mnet\u001b[0m\u001b[0;34m.\u001b[0m\u001b[0mexport\u001b[0m\u001b[0;34m(\u001b[0m\u001b[0;34m'my_mlp'\u001b[0m\u001b[0;34m)\u001b[0m\u001b[0;34m\u001b[0m\u001b[0;34m\u001b[0m\u001b[0m\n\u001b[0m\u001b[1;32m      8\u001b[0m \u001b[0;31m# !ls -lh my_mlp*\u001b[0m\u001b[0;34m\u001b[0m\u001b[0;34m\u001b[0m\u001b[0;34m\u001b[0m\u001b[0m\n",
      "\u001b[0;32m~/env_gpu/lib/python3.7/site-packages/mxnet/gluon/block.py\u001b[0m in \u001b[0;36mexport\u001b[0;34m(self, path, epoch, remove_amp_cast)\u001b[0m\n\u001b[1;32m   1188\u001b[0m         \u001b[0;32mif\u001b[0m \u001b[0;32mnot\u001b[0m \u001b[0mself\u001b[0m\u001b[0;34m.\u001b[0m\u001b[0m_cached_graph\u001b[0m\u001b[0;34m:\u001b[0m\u001b[0;34m\u001b[0m\u001b[0;34m\u001b[0m\u001b[0m\n\u001b[1;32m   1189\u001b[0m             raise RuntimeError(\n\u001b[0;32m-> 1190\u001b[0;31m                 \u001b[0;34m\"Please first call block.hybridize() and then run forward with \"\u001b[0m\u001b[0;34m\u001b[0m\u001b[0;34m\u001b[0m\u001b[0m\n\u001b[0m\u001b[1;32m   1191\u001b[0m                 \"this block at least once before calling export.\")\n\u001b[1;32m   1192\u001b[0m         \u001b[0msym\u001b[0m \u001b[0;34m=\u001b[0m \u001b[0mself\u001b[0m\u001b[0;34m.\u001b[0m\u001b[0m_cached_graph\u001b[0m\u001b[0;34m[\u001b[0m\u001b[0;36m1\u001b[0m\u001b[0;34m]\u001b[0m\u001b[0;34m\u001b[0m\u001b[0;34m\u001b[0m\u001b[0m\n",
      "\u001b[0;31mRuntimeError\u001b[0m: Please first call block.hybridize() and then run forward with this block at least once before calling export."
     ]
    }
   ],
   "source": [
    "import mxnet as mx\n",
    "# from mxnet import gluon\n",
    "\n",
    "# net = get_net()\n",
    "# net.hybridize()\n",
    "# net(mx.nd.ones((1,3,224,224)))\n",
    "net.export('my_mlp')\n",
    "# !ls -lh my_mlp*"
   ]
  },
  {
   "cell_type": "code",
   "execution_count": null,
   "metadata": {},
   "outputs": [],
   "source": []
  },
  {
   "cell_type": "code",
   "execution_count": null,
   "metadata": {},
   "outputs": [],
   "source": []
  }
 ]
}