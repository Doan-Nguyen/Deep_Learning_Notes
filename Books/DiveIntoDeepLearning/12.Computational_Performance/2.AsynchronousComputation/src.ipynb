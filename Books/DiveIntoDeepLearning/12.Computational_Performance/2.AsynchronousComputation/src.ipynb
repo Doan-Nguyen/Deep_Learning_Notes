{
 "metadata": {
  "language_info": {
   "codemirror_mode": {
    "name": "ipython",
    "version": 3
   },
   "file_extension": ".py",
   "mimetype": "text/x-python",
   "name": "python",
   "nbconvert_exporter": "python",
   "pygments_lexer": "ipython3",
   "version": "3.7.6-final"
  },
  "orig_nbformat": 2,
  "kernelspec": {
   "name": "python_defaultSpec_1599970446598",
   "display_name": "Python 3.7.6 64-bit"
  }
 },
 "nbformat": 4,
 "nbformat_minor": 2,
 "cells": [
  {
   "cell_type": "code",
   "execution_count": 1,
   "metadata": {},
   "outputs": [],
   "source": [
    "from d2l import mxnet as d2l\n",
    "import numpy, os, subprocess\n",
    "from mxnet import autograd, gluon, np, npx\n",
    "from mxnet.gluon import nn\n",
    "npx.set_np()"
   ]
  },
  {
   "cell_type": "code",
   "execution_count": 2,
   "metadata": {
    "tags": []
   },
   "outputs": [
    {
     "output_type": "stream",
     "name": "stdout",
     "text": "numpy: 0.6793 sec\nmxnet.np: 0.0136 sec\nDone: 0.7867 sec\n"
    }
   ],
   "source": [
    "with d2l.Benchmark(\"numpy\"):\n",
    "    for _ in range(10):\n",
    "        a = numpy.random.normal(size=(1000, 1000))\n",
    "        b = numpy.dot(a, a)\n",
    "\n",
    "with d2l.Benchmark(\"mxnet.np\"):\n",
    "    for _ in range(10):\n",
    "        a = np.random.normal(size=(1000, 1000))\n",
    "        b = np.dot(a, a)\n",
    "\n",
    "with d2l.Benchmark():\n",
    "    for _ in range(10):\n",
    "        a = np.random.normal(size=(1000, 1000))\n",
    "        b = np.dot(a, a)\n",
    "    npx.waitall()"
   ]
  },
  {
   "cell_type": "code",
   "execution_count": 3,
   "metadata": {},
   "outputs": [
    {
     "output_type": "execute_result",
     "data": {
      "text/plain": "array([[4., 4.]])"
     },
     "metadata": {},
     "execution_count": 3
    }
   ],
   "source": [
    "x = np.ones((1, 2))\n",
    "y = np.ones((1, 2))\n",
    "z = x*x + y + 2\n",
    "z"
   ]
  },
  {
   "cell_type": "code",
   "execution_count": 4,
   "metadata": {
    "tags": []
   },
   "outputs": [
    {
     "output_type": "stream",
     "name": "stdout",
     "text": "waitall: 0.0226 sec\nwait_to_read: 0.0212 sec\n"
    }
   ],
   "source": [
    "with d2l.Benchmark('waitall'):\n",
    "    \"\"\"\n",
    "    Chờ đến khi toàn bộ phép toán hoàn thành\n",
    "    \"\"\"\n",
    "    b = np.dot(a, a)\n",
    "    npx.waitall()\n",
    "\n",
    "with d2l.Benchmark('wait_to_read'):\n",
    "    \"\"\"\n",
    "    Chỉ chờ biến cụ thể (ở đây là biến b) sẵn sàng để tính toán\n",
    "    \"\"\"\n",
    "    b = np.dot(a, a)\n",
    "    b.wait_to_read()"
   ]
  },
  {
   "cell_type": "markdown",
   "metadata": {},
   "source": [
    "Cải thiện tính toán "
   ]
  },
  {
   "cell_type": "code",
   "execution_count": 5,
   "metadata": {
    "tags": []
   },
   "outputs": [
    {
     "output_type": "stream",
     "name": "stdout",
     "text": "synchronous in 10 iterations: 0.0049 sec\nAsynchronous in 10 iterations: 0.0013 sec\nsynchronous in 1000 iterations: 0.0961 sec\nAsynchronous in 1000 iterations: 0.0567 sec\nsynchronous in 1000000 iterations: 59.6167 sec\nAsynchronous in 1000000 iterations: 47.8872 sec\n"
    }
   ],
   "source": [
    "\"\"\"\n",
    "- wait_to_read(): dong vai tro can viec tinh toan sau moi phep +\n",
    "\"\"\"\n",
    "with d2l.Benchmark(\"synchronous in 10 iterations\"):\n",
    "    for _ in range(10):\n",
    "        y = x + 1\n",
    "        y.wait_to_read()\n",
    "\n",
    "with d2l.Benchmark(\"Asynchronous in 10 iterations\"):\n",
    "    for _ in range(10):\n",
    "        y = x + 1\n",
    "    y.wait_to_read()\n",
    "\n",
    "with d2l.Benchmark(\"synchronous in 1000 iterations\"):\n",
    "    for _ in range(1000):\n",
    "        y = x + 1\n",
    "        y.wait_to_read()\n",
    "\n",
    "with d2l.Benchmark(\"Asynchronous in 1000 iterations\"):\n",
    "    for _ in range(1000):\n",
    "        y = x + 1\n",
    "    y.wait_to_read()\n",
    "\n",
    "with d2l.Benchmark(\"synchronous in 1000000 iterations\"):\n",
    "    for _ in range(1000000):\n",
    "        y = x + 1\n",
    "        y.wait_to_read()\n",
    "\n",
    "with d2l.Benchmark(\"Asynchronous in 1000000 iterations\"):\n",
    "    for _ in range(1000000):\n",
    "        y = x + 1\n",
    "    y.wait_to_read()\n",
    "\n",
    "\"\"\"\n",
    "synchronous in 10 iterations: 0.0049 sec\n",
    "Asynchronous in 10 iterations: 0.0013 sec\n",
    "synchronous in 1000 iterations: 0.0961 sec\n",
    "Asynchronous in 1000 iterations: 0.0567 sec\n",
    "synchronous in 1000000 iterations: 59.6167 sec\n",
    "Asynchronous in 1000000 iterations: 47.8872 sec\n",
    "\"\"\""
   ]
  },
  {
   "cell_type": "code",
   "execution_count": null,
   "metadata": {},
   "outputs": [],
   "source": []
  },
  {
   "cell_type": "code",
   "execution_count": null,
   "metadata": {},
   "outputs": [],
   "source": []
  },
  {
   "cell_type": "code",
   "execution_count": null,
   "metadata": {},
   "outputs": [],
   "source": []
  }
 ]
}