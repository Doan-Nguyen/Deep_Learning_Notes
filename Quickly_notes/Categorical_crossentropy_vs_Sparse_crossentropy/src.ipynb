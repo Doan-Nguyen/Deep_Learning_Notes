{
 "metadata": {
  "language_info": {
   "codemirror_mode": {
    "name": "ipython",
    "version": 3
   },
   "file_extension": ".py",
   "mimetype": "text/x-python",
   "name": "python",
   "nbconvert_exporter": "python",
   "pygments_lexer": "ipython3",
   "version": "3.7.3-final"
  },
  "orig_nbformat": 2,
  "kernelspec": {
   "name": "Python 3.7.3 64-bit",
   "display_name": "Python 3.7.3 64-bit",
   "metadata": {
    "interpreter": {
     "hash": "a7231ce37b7d142d25e5af77bb34676c0d8817470db918043b3affd5443ebef9"
    }
   }
  }
 },
 "nbformat": 4,
 "nbformat_minor": 2,
 "cells": [
  {
   "source": [
    "## Tham khao:\n",
    "\n",
    "+ https://github.com/tensorflow/tensorflow/blob/1cf0898dd4331baf93fe77205550f2c2e6c90ee5/tensorflow/python/keras/backend.py#L4426\n",
    "\n",
    "+ https://github.com/tensorflow/tensorflow/blob/1cf0898dd4331baf93fe77205550f2c2e6c90ee5/tensorflow/python/ops/nn_ops.py#L3304\n"
   ],
   "cell_type": "markdown",
   "metadata": {}
  },
  {
   "cell_type": "code",
   "execution_count": 1,
   "metadata": {},
   "outputs": [],
   "source": [
    "import tensorflow as tf\n",
    "from tensorflow.keras import backend as K\n",
    "\n"
   ]
  },
  {
   "source": [
    "## Categorical crossentropy"
   ],
   "cell_type": "markdown",
   "metadata": {}
  },
  {
   "cell_type": "code",
   "execution_count": 2,
   "metadata": {},
   "outputs": [
    {
     "output_type": "stream",
     "name": "stdout",
     "text": [
      "a:  tf.Tensor(\n[[1. 0. 0.]\n [0. 1. 0.]\n [0. 0. 1.]], shape=(3, 3), dtype=float32)\nb:  tf.Tensor(\n[[0.9  0.05 0.05]\n [0.5  0.89 0.6 ]\n [0.05 0.01 0.94]], shape=(3, 3), dtype=float32)\nCategorical cross entropy between a & b: [0.10536055 0.8046684  0.06187541]\nCategorical cross entropy between a & a: [1.1920929e-07 1.1920929e-07 1.1920929e-07]\n"
     ]
    }
   ],
   "source": [
    "a = tf.constant([1., 0., 0., 0., 1., 0., 0., 0., 1.], shape=[3,3])\n",
    "print(\"a: \", a)\n",
    "b = tf.constant([.9, .05, .05, .5, .89, .6, .05, .01, .94], shape=[3,3])\n",
    "print(\"b: \", b)\n",
    "\n",
    "loss_ab = K.categorical_crossentropy(a, b)\n",
    "print(\"Categorical cross entropy between a & b: {}\".format(loss_ab))\n",
    "loss_aa = K.categorical_crossentropy(a, a)\n",
    "print(\"Categorical cross entropy between a & a: {}\".format(loss_aa))\n"
   ]
  },
  {
   "source": [
    "## Sparse cross entropy "
   ],
   "cell_type": "markdown",
   "metadata": {}
  },
  {
   "cell_type": "code",
   "execution_count": null,
   "metadata": {},
   "outputs": [],
   "source": [
    "a = tf.constant([1., 0., 0., 0., 1., 0., 0., 0., 1.], shape=[3,3])\n",
    "print(\"a: \", a)\n",
    "b = tf.constant([.9, .05, .05, .5, .89, .6, .05, .01, .94], shape=[3,3])\n",
    "print(\"b: \", b)\n",
    "\n",
    "loss_ab = K.categorical_crossentropy(a, b)\n",
    "print(\"Categorical cross entropy between a & b: {}\".format(loss_ab))\n",
    "loss_aa = K.categorical_crossentropy(a, a)\n",
    "print(\"Categorical cross entropy between a & a: {}\".format(loss_aa))"
   ]
  }
 ]
}