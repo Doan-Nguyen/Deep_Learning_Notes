{
 "cells": [
  {
   "cell_type": "markdown",
   "metadata": {},
   "source": [
    "### Multi thread "
   ]
  },
  {
   "cell_type": "code",
   "execution_count": 4,
   "metadata": {
    "tags": []
   },
   "outputs": [
    {
     "output_type": "stream",
     "name": "stdout",
     "text": "Test thread!\nTest thread!\nTest thread!\nTest thread!\nTest thread!\nRunning time: 0.0005056858062744141\n"
    }
   ],
   "source": [
    "import time\n",
    "\n",
    "def test_thread():\n",
    "    print(\"Test thread!\")\n",
    "\n",
    "def main():\n",
    "    start_time = time.time()\n",
    "    for i in range(5):\n",
    "        test_thread()\n",
    "    print(\"Running time: {}\".format(time.time() - start_time))\n",
    "###\n",
    "main()"
   ]
  },
  {
   "cell_type": "code",
   "execution_count": 3,
   "metadata": {
    "tags": []
   },
   "outputs": [
    {
     "output_type": "stream",
     "name": "stdout",
     "text": "Test thread!\nTest thread!\nTest thread!\nRunning time with multiprocess: 0.05533194541931152\nTest thread!\nTest thread!\n"
    }
   ],
   "source": [
    "import multiprocessing\n",
    "\n",
    "def main_multiprocess():\n",
    "    start_time = time.time()\n",
    "    processes = []\n",
    "    for i in range(5):\n",
    "        test_process = multiprocessing.Process(target=test_thread)\n",
    "        processes.append(test_process)\n",
    "        test_process.start()\n",
    "    print(\"Running time with multiprocess: {}\".format(time.time() - start_time))\n",
    "###\n",
    "main_multiprocess()"
   ]
  }
 ],
 "metadata": {
  "language_info": {
   "codemirror_mode": {
    "name": "ipython",
    "version": 3
   },
   "file_extension": ".py",
   "mimetype": "text/x-python",
   "name": "python",
   "nbconvert_exporter": "python",
   "pygments_lexer": "ipython3",
   "version": 3
  },
  "orig_nbformat": 2,
  "kernelspec": {
   "name": "python_defaultSpec_1596767045988",
   "display_name": "Python 3.7.5 64-bit ('tf2_env': conda)"
  }
 },
 "nbformat": 4,
 "nbformat_minor": 2
}